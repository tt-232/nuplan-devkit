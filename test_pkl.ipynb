{
 "cells": [
  {
   "cell_type": "code",
   "execution_count": 21,
   "metadata": {},
   "outputs": [
    {
     "data": {
      "text/plain": [
       "[<shapely.geometry.linestring.LineString at 0x7f7dbd3512b0>,\n",
       " <shapely.geometry.linestring.LineString at 0x7f7dbd351040>,\n",
       " <shapely.geometry.linestring.LineString at 0x7f7dbd3092e0>,\n",
       " <shapely.geometry.linestring.LineString at 0x7f7db0f3b550>,\n",
       " <shapely.geometry.linestring.LineString at 0x7f7db0f3b850>,\n",
       " <shapely.geometry.linestring.LineString at 0x7f7de4054160>,\n",
       " <shapely.geometry.linestring.LineString at 0x7f7dc41c8ee0>,\n",
       " <shapely.geometry.linestring.LineString at 0x7f7db0f3be50>,\n",
       " <shapely.geometry.linestring.LineString at 0x7f7dbf84c5e0>,\n",
       " <shapely.geometry.linestring.LineString at 0x7f7dbf84c6a0>,\n",
       " <shapely.geometry.linestring.LineString at 0x7f7dbf84c310>]"
      ]
     },
     "execution_count": 21,
     "metadata": {},
     "output_type": "execute_result"
    }
   ],
   "source": [
    "import pickle\n",
    "import map_utils\n",
    "import torchvision.transforms as transforms\n",
    "import torch\n",
    "\n",
    "with open('test_func.pkl', 'rb') as file:\n",
    "\n",
    "    data = pickle.load(file)\n",
    "\n",
    "gt_lines_instance = data['gt_vecs_pts_loc'].instance_list\n",
    "\n",
    "gt_lines_instance"
   ]
  },
  {
   "cell_type": "code",
   "execution_count": 37,
   "metadata": {},
   "outputs": [],
   "source": [
    "intrinsic = data['camera_intrinsics']"
   ]
  },
  {
   "cell_type": "code",
   "execution_count": 40,
   "metadata": {},
   "outputs": [
    {
     "data": {
      "text/plain": [
       "tensor([[ 0.8225,  0.0065,  0.5687,  1.5753],\n",
       "        [-0.5687,  0.0164,  0.8224,  0.5005],\n",
       "        [-0.0040, -0.9998,  0.0172,  1.5070],\n",
       "        [ 0.0000,  0.0000,  0.0000,  1.0000]])"
      ]
     },
     "execution_count": 40,
     "metadata": {},
     "output_type": "execute_result"
    }
   ],
   "source": [
    "extrinsic = data[\"camera2ego\"]\n",
    "extrinsic"
   ]
  },
  {
   "cell_type": "code",
   "execution_count": 41,
   "metadata": {},
   "outputs": [
    {
     "data": {
      "text/plain": [
       "tensor([[1.5753],\n",
       "        [0.5005],\n",
       "        [1.5070]])"
      ]
     },
     "execution_count": 41,
     "metadata": {},
     "output_type": "execute_result"
    }
   ],
   "source": [
    "extrinsic[:3, 3].reshape(3, -1)"
   ]
  },
  {
   "cell_type": "code",
   "execution_count": 33,
   "metadata": {},
   "outputs": [
    {
     "data": {
      "text/plain": [
       "{'gt_vecs_pts_loc': <map_utils.LiDARInstanceLines at 0x7f7dbd351730>,\n",
       " 'gt_vecs_label': tensor([0, 0, 0, 0, 0, 0, 2, 2, 2, 2, 2]),\n",
       " 'camera_intrinsics': tensor([[1.2726e+03, 0.0000e+00, 8.2662e+02, 0.0000e+00],\n",
       "         [0.0000e+00, 1.2726e+03, 4.7975e+02, 0.0000e+00],\n",
       "         [0.0000e+00, 0.0000e+00, 1.0000e+00, 0.0000e+00],\n",
       "         [0.0000e+00, 0.0000e+00, 0.0000e+00, 1.0000e+00]]),\n",
       " 'camera2ego': tensor([[ 0.8225,  0.0065,  0.5687,  1.5753],\n",
       "         [-0.5687,  0.0164,  0.8224,  0.5005],\n",
       "         [-0.0040, -0.9998,  0.0172,  1.5070],\n",
       "         [ 0.0000,  0.0000,  0.0000,  1.0000]])}"
      ]
     },
     "execution_count": 33,
     "metadata": {},
     "output_type": "execute_result"
    }
   ],
   "source": [
    "data"
   ]
  },
  {
   "cell_type": "code",
   "execution_count": 26,
   "metadata": {},
   "outputs": [
    {
     "data": {
      "text/plain": [
       "[(6.216248787878953, -9.059982842706233),\n",
       " (6.678621338833864, -8.967911239365378),\n",
       " (7.140993889788888, -8.87583963602458),\n",
       " (7.603366440743798, -8.783768032683781),\n",
       " (8.065738991698709, -8.691696429342926),\n",
       " (8.528111542653733, -8.599624826002128),\n",
       " (8.990484093608643, -8.507553222661272),\n",
       " (9.452856644563553, -8.415481619320644),\n",
       " (9.91522919551835, -8.323410015979789),\n",
       " (10.377601746473488, -8.231338412638934),\n",
       " (10.839974297428398, -8.139266809298078),\n",
       " (11.302346848383195, -8.047195205957337),\n",
       " (11.764719399338219, -7.955123602616538),\n",
       " (12.227091950293243, -7.86305199927574),\n",
       " (12.68946450124804, -7.770980395934885),\n",
       " (13.151837052203064, -7.678908792594086),\n",
       " (13.614209603157974, -7.586837189253345),\n",
       " (14.076582154112884, -7.494765585912489),\n",
       " (14.538954705067908, -7.402693982571691),\n",
       " (15.001327256022705, -7.310622379230836),\n",
       " (15.463699806977843, -7.21855077588998),\n",
       " (15.926072357932753, -7.126479172549239),\n",
       " (16.38844490888755, -7.034407569208497),\n",
       " (16.850817459842688, -6.942335965867528),\n",
       " (17.313190010797598, -6.8502643625267865),\n",
       " (17.77556256175251, -6.758192759185931),\n",
       " (18.237935112707532, -6.666121155845133),\n",
       " (18.700307663662215, -6.574049552504448),\n",
       " (19.162680214617353, -6.481977949163593),\n",
       " (19.625052765572264, -6.389906345822737),\n",
       " (20.08742531652706, -6.297834742481939),\n",
       " (20.549797867482084, -6.205763139141084),\n",
       " (21.01217041843711, -6.113691535800342),\n",
       " (21.47454296939202, -6.021619932459544),\n",
       " (21.93691552034693, -5.929548329118745),\n",
       " (22.39928807130184, -5.837476725777947),\n",
       " (22.861660622256977, -5.745405122437035),\n",
       " (23.324033173211774, -5.653333519096293),\n",
       " (23.78640572416657, -5.561261915755551),\n",
       " (24.24877827512171, -5.469190312414639),\n",
       " (24.71115082607662, -5.377118709073898),\n",
       " (25.173523377031415, -5.285047105733099),\n",
       " (25.635895927986553, -5.192975502392244),\n",
       " (26.098268478941463, -5.100903899051389),\n",
       " (26.560641029896146, -5.008832295710647),\n",
       " (27.023013580851284, -4.916760692369792),\n",
       " (27.485386131806308, -4.824689089028993),\n",
       " (27.947758682761105, -4.732617485688195),\n",
       " (28.41013123371613, -4.640545882347396),\n",
       " (28.872503784670926, -4.548474279006598)]"
      ]
     },
     "execution_count": 26,
     "metadata": {},
     "output_type": "execute_result"
    }
   ],
   "source": [
    "list(gt_lines_instance[0].coords)"
   ]
  },
  {
   "cell_type": "code",
   "execution_count": 31,
   "metadata": {},
   "outputs": [],
   "source": [
    "gt_labels_3d = data[\"gt_vecs_label\"]\n",
    "z = 0"
   ]
  },
  {
   "cell_type": "code",
   "execution_count": 48,
   "metadata": {},
   "outputs": [
    {
     "name": "stdout",
     "output_type": "stream",
     "text": [
      "torch.Size([50, 3])\n",
      "tensor([[ 0.8225, -0.5687, -0.0040],\n",
      "        [ 0.0065,  0.0164, -0.9998],\n",
      "        [ 0.5687,  0.8224,  0.0172]])\n",
      "torch.Size([14, 3])\n",
      "tensor([[ 0.8225, -0.5687, -0.0040],\n",
      "        [ 0.0065,  0.0164, -0.9998],\n",
      "        [ 0.5687,  0.8224,  0.0172]])\n",
      "torch.Size([5, 3])\n",
      "tensor([[ 0.8225, -0.5687, -0.0040],\n",
      "        [ 0.0065,  0.0164, -0.9998],\n",
      "        [ 0.5687,  0.8224,  0.0172]])\n",
      "torch.Size([38, 3])\n",
      "tensor([[ 0.8225, -0.5687, -0.0040],\n",
      "        [ 0.0065,  0.0164, -0.9998],\n",
      "        [ 0.5687,  0.8224,  0.0172]])\n",
      "torch.Size([50, 3])\n",
      "tensor([[ 0.8225, -0.5687, -0.0040],\n",
      "        [ 0.0065,  0.0164, -0.9998],\n",
      "        [ 0.5687,  0.8224,  0.0172]])\n",
      "torch.Size([32, 3])\n",
      "tensor([[ 0.8225, -0.5687, -0.0040],\n",
      "        [ 0.0065,  0.0164, -0.9998],\n",
      "        [ 0.5687,  0.8224,  0.0172]])\n",
      "torch.Size([8, 3])\n",
      "tensor([[ 0.8225, -0.5687, -0.0040],\n",
      "        [ 0.0065,  0.0164, -0.9998],\n",
      "        [ 0.5687,  0.8224,  0.0172]])\n",
      "torch.Size([3, 3])\n",
      "tensor([[ 0.8225, -0.5687, -0.0040],\n",
      "        [ 0.0065,  0.0164, -0.9998],\n",
      "        [ 0.5687,  0.8224,  0.0172]])\n",
      "torch.Size([70, 3])\n",
      "tensor([[ 0.8225, -0.5687, -0.0040],\n",
      "        [ 0.0065,  0.0164, -0.9998],\n",
      "        [ 0.5687,  0.8224,  0.0172]])\n",
      "torch.Size([55, 3])\n",
      "tensor([[ 0.8225, -0.5687, -0.0040],\n",
      "        [ 0.0065,  0.0164, -0.9998],\n",
      "        [ 0.5687,  0.8224,  0.0172]])\n",
      "torch.Size([92, 3])\n",
      "tensor([[ 0.8225, -0.5687, -0.0040],\n",
      "        [ 0.0065,  0.0164, -0.9998],\n",
      "        [ 0.5687,  0.8224,  0.0172]])\n"
     ]
    }
   ],
   "source": [
    "for gt_line_instance, gt_label_3d in zip(gt_lines_instance, gt_labels_3d):\n",
    "        pts = torch.Tensor(list(gt_line_instance.coords))\n",
    "        # print(pts)\n",
    "        pts = pts[:, [1, 0]]\n",
    "        pts[:, 1] = -pts[:, 1]\n",
    "        dummy_pts = torch.cat([pts, torch.ones((pts.shape[0], 1)) * z], dim=-1)\n",
    "        points_in_cam_cor = torch.matmul(\n",
    "            extrinsic[:3, :3].T, (dummy_pts.T - extrinsic[:3, 3].reshape(3, -1))\n",
    "        )\n",
    "        print(points_in_cam_cor)\n"
   ]
  }
 ],
 "metadata": {
  "kernelspec": {
   "display_name": "nuplan",
   "language": "python",
   "name": "python3"
  },
  "language_info": {
   "codemirror_mode": {
    "name": "ipython",
    "version": 3
   },
   "file_extension": ".py",
   "mimetype": "text/x-python",
   "name": "python",
   "nbconvert_exporter": "python",
   "pygments_lexer": "ipython3",
   "version": "3.9.19"
  }
 },
 "nbformat": 4,
 "nbformat_minor": 2
}
